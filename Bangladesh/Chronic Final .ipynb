{
 "cells": [
  {
   "cell_type": "code",
   "execution_count": 1,
   "metadata": {},
   "outputs": [],
   "source": [
    "import pandas as pd\n",
    "import numpy as np\n",
    "import matplotlib.pyplot as plt\n",
    "import seaborn as sns\n",
    "from collections import Counter\n",
    "import time"
   ]
  },
  {
   "cell_type": "code",
   "execution_count": 2,
   "metadata": {},
   "outputs": [],
   "source": [
    "df=pd.read_csv(\"F:\\Work\\diease detection\\ckd\\diease detection\\Bangladesh -anam medical college.csv\")"
   ]
  },
  {
   "cell_type": "code",
   "execution_count": 3,
   "metadata": {},
   "outputs": [],
   "source": [
    "df=df.replace('?',np.nan)"
   ]
  },
  {
   "cell_type": "code",
   "execution_count": 4,
   "metadata": {},
   "outputs": [],
   "source": [
    "data=df[['sg','bgr','sc','hemo','pcv','rbcc','rbc','htn',\n",
    "         'dm','Label']].copy()"
   ]
  },
  {
   "cell_type": "code",
   "execution_count": 5,
   "metadata": {},
   "outputs": [],
   "source": [
    "#df1=df.drop(columns=['id','age','bp','sg','al','su','bgr','bu','sc','sod','pot','hemo','pcv','wbcc','rbcc'])"
   ]
  },
  {
   "cell_type": "code",
   "execution_count": 6,
   "metadata": {},
   "outputs": [],
   "source": [
    "df1=data.drop(columns=['rbc','htn','dm','Label'])"
   ]
  },
  {
   "cell_type": "code",
   "execution_count": 7,
   "metadata": {},
   "outputs": [
    {
     "data": {
      "text/html": [
       "<div>\n",
       "<style scoped>\n",
       "    .dataframe tbody tr th:only-of-type {\n",
       "        vertical-align: middle;\n",
       "    }\n",
       "\n",
       "    .dataframe tbody tr th {\n",
       "        vertical-align: top;\n",
       "    }\n",
       "\n",
       "    .dataframe thead th {\n",
       "        text-align: right;\n",
       "    }\n",
       "</style>\n",
       "<table border=\"1\" class=\"dataframe\">\n",
       "  <thead>\n",
       "    <tr style=\"text-align: right;\">\n",
       "      <th></th>\n",
       "      <th>sg</th>\n",
       "      <th>bgr</th>\n",
       "      <th>sc</th>\n",
       "      <th>hemo</th>\n",
       "      <th>pcv</th>\n",
       "      <th>rbcc</th>\n",
       "    </tr>\n",
       "  </thead>\n",
       "  <tbody>\n",
       "    <tr>\n",
       "      <th>0</th>\n",
       "      <td>1.02</td>\n",
       "      <td>110</td>\n",
       "      <td>3.6</td>\n",
       "      <td>11.95</td>\n",
       "      <td>35.45</td>\n",
       "      <td>4.755</td>\n",
       "    </tr>\n",
       "    <tr>\n",
       "      <th>1</th>\n",
       "      <td>1.01</td>\n",
       "      <td>133</td>\n",
       "      <td>3.6</td>\n",
       "      <td>11.95</td>\n",
       "      <td>35.45</td>\n",
       "      <td>4.755</td>\n",
       "    </tr>\n",
       "    <tr>\n",
       "      <th>2</th>\n",
       "      <td>1.01</td>\n",
       "      <td>110</td>\n",
       "      <td>3.6</td>\n",
       "      <td>9.35</td>\n",
       "      <td>31.55</td>\n",
       "      <td>4.755</td>\n",
       "    </tr>\n",
       "    <tr>\n",
       "      <th>3</th>\n",
       "      <td>1.01</td>\n",
       "      <td>133</td>\n",
       "      <td>3.6</td>\n",
       "      <td>14.55</td>\n",
       "      <td>43.25</td>\n",
       "      <td>4.755</td>\n",
       "    </tr>\n",
       "    <tr>\n",
       "      <th>4</th>\n",
       "      <td>1.016</td>\n",
       "      <td>175</td>\n",
       "      <td>3.6</td>\n",
       "      <td>14.55</td>\n",
       "      <td>39.35</td>\n",
       "      <td>5.345</td>\n",
       "    </tr>\n",
       "    <tr>\n",
       "      <th>...</th>\n",
       "      <td>...</td>\n",
       "      <td>...</td>\n",
       "      <td>...</td>\n",
       "      <td>...</td>\n",
       "      <td>...</td>\n",
       "      <td>...</td>\n",
       "    </tr>\n",
       "    <tr>\n",
       "      <th>195</th>\n",
       "      <td>1.02</td>\n",
       "      <td>175</td>\n",
       "      <td>3.6</td>\n",
       "      <td>9.35</td>\n",
       "      <td>31.55</td>\n",
       "      <td>4.755</td>\n",
       "    </tr>\n",
       "    <tr>\n",
       "      <th>196</th>\n",
       "      <td>1.02</td>\n",
       "      <td>133</td>\n",
       "      <td>3.6</td>\n",
       "      <td>8.05</td>\n",
       "      <td>23.75</td>\n",
       "      <td>4.755</td>\n",
       "    </tr>\n",
       "    <tr>\n",
       "      <th>197</th>\n",
       "      <td>NaN</td>\n",
       "      <td>110</td>\n",
       "      <td>3.6</td>\n",
       "      <td>15.85</td>\n",
       "      <td>39.35</td>\n",
       "      <td>6.525</td>\n",
       "    </tr>\n",
       "    <tr>\n",
       "      <th>198</th>\n",
       "      <td>NaN</td>\n",
       "      <td>133</td>\n",
       "      <td>3.6</td>\n",
       "      <td>14.55</td>\n",
       "      <td>47.15</td>\n",
       "      <td>4.755</td>\n",
       "    </tr>\n",
       "    <tr>\n",
       "      <th>199</th>\n",
       "      <td>1.01</td>\n",
       "      <td>133</td>\n",
       "      <td>3.6</td>\n",
       "      <td>13.25</td>\n",
       "      <td>39.35</td>\n",
       "      <td>4.165</td>\n",
       "    </tr>\n",
       "  </tbody>\n",
       "</table>\n",
       "<p>200 rows × 6 columns</p>\n",
       "</div>"
      ],
      "text/plain": [
       "        sg  bgr   sc   hemo    pcv   rbcc\n",
       "0     1.02  110  3.6  11.95  35.45  4.755\n",
       "1     1.01  133  3.6  11.95  35.45  4.755\n",
       "2     1.01  110  3.6   9.35  31.55  4.755\n",
       "3     1.01  133  3.6  14.55  43.25  4.755\n",
       "4    1.016  175  3.6  14.55  39.35  5.345\n",
       "..     ...  ...  ...    ...    ...    ...\n",
       "195   1.02  175  3.6   9.35  31.55  4.755\n",
       "196   1.02  133  3.6   8.05  23.75  4.755\n",
       "197    NaN  110  3.6  15.85  39.35  6.525\n",
       "198    NaN  133  3.6  14.55  47.15  4.755\n",
       "199   1.01  133  3.6  13.25  39.35  4.165\n",
       "\n",
       "[200 rows x 6 columns]"
      ]
     },
     "execution_count": 7,
     "metadata": {},
     "output_type": "execute_result"
    }
   ],
   "source": [
    "df1"
   ]
  },
  {
   "cell_type": "code",
   "execution_count": 8,
   "metadata": {},
   "outputs": [],
   "source": [
    "from sklearn.linear_model import LinearRegression\n",
    "from sklearn.experimental import enable_iterative_imputer\n",
    "from sklearn.impute import IterativeImputer"
   ]
  },
  {
   "cell_type": "code",
   "execution_count": 9,
   "metadata": {},
   "outputs": [],
   "source": [
    "lr=LinearRegression()\n",
    "imp=IterativeImputer(estimator=lr,verbose=2,max_iter=100, tol=1e-10, imputation_order='roman')"
   ]
  },
  {
   "cell_type": "code",
   "execution_count": 10,
   "metadata": {},
   "outputs": [
    {
     "name": "stdout",
     "output_type": "stream",
     "text": [
      "[IterativeImputer] Completing matrix with shape (200, 6)\n",
      "[IterativeImputer] Ending imputation round 1/100, elapsed time 0.02\n",
      "[IterativeImputer] Change: 17.157029390169924, scaled tolerance: 4.27e-08 \n",
      "[IterativeImputer] Ending imputation round 2/100, elapsed time 0.03\n",
      "[IterativeImputer] Change: 2.7050332230416085, scaled tolerance: 4.27e-08 \n",
      "[IterativeImputer] Ending imputation round 3/100, elapsed time 0.03\n",
      "[IterativeImputer] Change: 1.4368839817627157, scaled tolerance: 4.27e-08 \n",
      "[IterativeImputer] Ending imputation round 4/100, elapsed time 0.03\n",
      "[IterativeImputer] Change: 0.7580854705238094, scaled tolerance: 4.27e-08 \n",
      "[IterativeImputer] Ending imputation round 5/100, elapsed time 0.05\n",
      "[IterativeImputer] Change: 0.40000743861903754, scaled tolerance: 4.27e-08 \n",
      "[IterativeImputer] Ending imputation round 6/100, elapsed time 0.05\n",
      "[IterativeImputer] Change: 0.2111204045387718, scaled tolerance: 4.27e-08 \n",
      "[IterativeImputer] Ending imputation round 7/100, elapsed time 0.05\n",
      "[IterativeImputer] Change: 0.11144329554169596, scaled tolerance: 4.27e-08 \n",
      "[IterativeImputer] Ending imputation round 8/100, elapsed time 0.07\n",
      "[IterativeImputer] Change: 0.05883152809441228, scaled tolerance: 4.27e-08 \n",
      "[IterativeImputer] Ending imputation round 9/100, elapsed time 0.07\n",
      "[IterativeImputer] Change: 0.031058712554865364, scaled tolerance: 4.27e-08 \n",
      "[IterativeImputer] Ending imputation round 10/100, elapsed time 0.07\n",
      "[IterativeImputer] Change: 0.016397056034545, scaled tolerance: 4.27e-08 \n",
      "[IterativeImputer] Ending imputation round 11/100, elapsed time 0.08\n",
      "[IterativeImputer] Change: 0.008656716710117696, scaled tolerance: 4.27e-08 \n",
      "[IterativeImputer] Ending imputation round 12/100, elapsed time 0.08\n",
      "[IterativeImputer] Change: 0.004570284171175221, scaled tolerance: 4.27e-08 \n",
      "[IterativeImputer] Ending imputation round 13/100, elapsed time 0.08\n",
      "[IterativeImputer] Change: 0.00241287436355897, scaled tolerance: 4.27e-08 \n",
      "[IterativeImputer] Ending imputation round 14/100, elapsed time 0.10\n",
      "[IterativeImputer] Change: 0.0012738758477510714, scaled tolerance: 4.27e-08 \n",
      "[IterativeImputer] Ending imputation round 15/100, elapsed time 0.10\n",
      "[IterativeImputer] Change: 0.0006725430098304397, scaled tolerance: 4.27e-08 \n",
      "[IterativeImputer] Ending imputation round 16/100, elapsed time 0.10\n",
      "[IterativeImputer] Change: 0.00035506953880637404, scaled tolerance: 4.27e-08 \n",
      "[IterativeImputer] Ending imputation round 17/100, elapsed time 0.12\n",
      "[IterativeImputer] Change: 0.00018745933470487586, scaled tolerance: 4.27e-08 \n",
      "[IterativeImputer] Ending imputation round 18/100, elapsed time 0.12\n",
      "[IterativeImputer] Change: 9.8969409891847e-05, scaled tolerance: 4.27e-08 \n",
      "[IterativeImputer] Ending imputation round 19/100, elapsed time 0.13\n",
      "[IterativeImputer] Change: 5.2251061520625086e-05, scaled tolerance: 4.27e-08 \n",
      "[IterativeImputer] Ending imputation round 20/100, elapsed time 0.13\n",
      "[IterativeImputer] Change: 2.7586046911887152e-05, scaled tolerance: 4.27e-08 \n",
      "[IterativeImputer] Ending imputation round 21/100, elapsed time 0.13\n",
      "[IterativeImputer] Change: 1.456411258193846e-05, scaled tolerance: 4.27e-08 \n",
      "[IterativeImputer] Ending imputation round 22/100, elapsed time 0.15\n",
      "[IterativeImputer] Change: 7.689158007417873e-06, scaled tolerance: 4.27e-08 \n",
      "[IterativeImputer] Ending imputation round 23/100, elapsed time 0.15\n",
      "[IterativeImputer] Change: 4.059511175880104e-06, scaled tolerance: 4.27e-08 \n",
      "[IterativeImputer] Ending imputation round 24/100, elapsed time 0.15\n",
      "[IterativeImputer] Change: 2.1432305803426033e-06, scaled tolerance: 4.27e-08 \n",
      "[IterativeImputer] Ending imputation round 25/100, elapsed time 0.17\n",
      "[IterativeImputer] Change: 1.131525242170639e-06, scaled tolerance: 4.27e-08 \n",
      "[IterativeImputer] Ending imputation round 26/100, elapsed time 0.17\n",
      "[IterativeImputer] Change: 5.973925232272137e-07, scaled tolerance: 4.27e-08 \n",
      "[IterativeImputer] Ending imputation round 27/100, elapsed time 0.17\n",
      "[IterativeImputer] Change: 3.1539551925696685e-07, scaled tolerance: 4.27e-08 \n",
      "[IterativeImputer] Ending imputation round 28/100, elapsed time 0.18\n",
      "[IterativeImputer] Change: 1.6651425838176692e-07, scaled tolerance: 4.27e-08 \n",
      "[IterativeImputer] Ending imputation round 29/100, elapsed time 0.18\n",
      "[IterativeImputer] Change: 8.791184735734703e-08, scaled tolerance: 4.27e-08 \n",
      "[IterativeImputer] Ending imputation round 30/100, elapsed time 0.20\n",
      "[IterativeImputer] Change: 4.6413478838047695e-08, scaled tolerance: 4.27e-08 \n",
      "[IterativeImputer] Ending imputation round 31/100, elapsed time 0.21\n",
      "[IterativeImputer] Change: 2.4504177575934705e-08, scaled tolerance: 4.27e-08 \n",
      "[IterativeImputer] Early stopping criterion reached.\n"
     ]
    }
   ],
   "source": [
    "df2=imp.fit_transform(df1)"
   ]
  },
  {
   "cell_type": "code",
   "execution_count": 11,
   "metadata": {},
   "outputs": [],
   "source": [
    "dl1=pd.DataFrame(df2,columns=('sg','bgr','sc','hemo','pcv','rbcc'))"
   ]
  },
  {
   "cell_type": "code",
   "execution_count": 12,
   "metadata": {},
   "outputs": [
    {
     "data": {
      "text/html": [
       "<div>\n",
       "<style scoped>\n",
       "    .dataframe tbody tr th:only-of-type {\n",
       "        vertical-align: middle;\n",
       "    }\n",
       "\n",
       "    .dataframe tbody tr th {\n",
       "        vertical-align: top;\n",
       "    }\n",
       "\n",
       "    .dataframe thead th {\n",
       "        text-align: right;\n",
       "    }\n",
       "</style>\n",
       "<table border=\"1\" class=\"dataframe\">\n",
       "  <thead>\n",
       "    <tr style=\"text-align: right;\">\n",
       "      <th></th>\n",
       "      <th>sg</th>\n",
       "      <th>bgr</th>\n",
       "      <th>sc</th>\n",
       "      <th>hemo</th>\n",
       "      <th>pcv</th>\n",
       "      <th>rbcc</th>\n",
       "    </tr>\n",
       "  </thead>\n",
       "  <tbody>\n",
       "    <tr>\n",
       "      <th>0</th>\n",
       "      <td>1.020000</td>\n",
       "      <td>110.0</td>\n",
       "      <td>3.600</td>\n",
       "      <td>11.950000</td>\n",
       "      <td>35.450000</td>\n",
       "      <td>4.755</td>\n",
       "    </tr>\n",
       "    <tr>\n",
       "      <th>1</th>\n",
       "      <td>1.010000</td>\n",
       "      <td>133.0</td>\n",
       "      <td>3.600</td>\n",
       "      <td>11.950000</td>\n",
       "      <td>35.450000</td>\n",
       "      <td>4.755</td>\n",
       "    </tr>\n",
       "    <tr>\n",
       "      <th>2</th>\n",
       "      <td>1.010000</td>\n",
       "      <td>110.0</td>\n",
       "      <td>3.600</td>\n",
       "      <td>9.350000</td>\n",
       "      <td>31.550000</td>\n",
       "      <td>4.755</td>\n",
       "    </tr>\n",
       "    <tr>\n",
       "      <th>3</th>\n",
       "      <td>1.010000</td>\n",
       "      <td>133.0</td>\n",
       "      <td>3.600</td>\n",
       "      <td>14.550000</td>\n",
       "      <td>43.250000</td>\n",
       "      <td>4.755</td>\n",
       "    </tr>\n",
       "    <tr>\n",
       "      <th>4</th>\n",
       "      <td>1.016000</td>\n",
       "      <td>175.0</td>\n",
       "      <td>3.600</td>\n",
       "      <td>14.550000</td>\n",
       "      <td>39.350000</td>\n",
       "      <td>5.345</td>\n",
       "    </tr>\n",
       "    <tr>\n",
       "      <th>5</th>\n",
       "      <td>1.023000</td>\n",
       "      <td>110.0</td>\n",
       "      <td>3.600</td>\n",
       "      <td>13.414756</td>\n",
       "      <td>41.860158</td>\n",
       "      <td>5.345</td>\n",
       "    </tr>\n",
       "    <tr>\n",
       "      <th>6</th>\n",
       "      <td>1.020000</td>\n",
       "      <td>110.0</td>\n",
       "      <td>3.600</td>\n",
       "      <td>10.650000</td>\n",
       "      <td>31.550000</td>\n",
       "      <td>3.575</td>\n",
       "    </tr>\n",
       "    <tr>\n",
       "      <th>7</th>\n",
       "      <td>1.020000</td>\n",
       "      <td>133.0</td>\n",
       "      <td>3.600</td>\n",
       "      <td>11.950000</td>\n",
       "      <td>39.350000</td>\n",
       "      <td>4.755</td>\n",
       "    </tr>\n",
       "    <tr>\n",
       "      <th>8</th>\n",
       "      <td>1.017351</td>\n",
       "      <td>133.0</td>\n",
       "      <td>3.600</td>\n",
       "      <td>14.550000</td>\n",
       "      <td>39.350000</td>\n",
       "      <td>5.345</td>\n",
       "    </tr>\n",
       "    <tr>\n",
       "      <th>9</th>\n",
       "      <td>1.010000</td>\n",
       "      <td>110.0</td>\n",
       "      <td>3.600</td>\n",
       "      <td>8.050000</td>\n",
       "      <td>23.750000</td>\n",
       "      <td>4.165</td>\n",
       "    </tr>\n",
       "    <tr>\n",
       "      <th>10</th>\n",
       "      <td>1.020440</td>\n",
       "      <td>110.0</td>\n",
       "      <td>3.600</td>\n",
       "      <td>13.250000</td>\n",
       "      <td>43.250000</td>\n",
       "      <td>6.525</td>\n",
       "    </tr>\n",
       "    <tr>\n",
       "      <th>11</th>\n",
       "      <td>1.018097</td>\n",
       "      <td>133.0</td>\n",
       "      <td>3.600</td>\n",
       "      <td>15.850000</td>\n",
       "      <td>47.150000</td>\n",
       "      <td>5.345</td>\n",
       "    </tr>\n",
       "    <tr>\n",
       "      <th>12</th>\n",
       "      <td>1.020000</td>\n",
       "      <td>110.0</td>\n",
       "      <td>3.600</td>\n",
       "      <td>11.950000</td>\n",
       "      <td>39.350000</td>\n",
       "      <td>6.525</td>\n",
       "    </tr>\n",
       "    <tr>\n",
       "      <th>13</th>\n",
       "      <td>1.016000</td>\n",
       "      <td>427.0</td>\n",
       "      <td>3.600</td>\n",
       "      <td>11.950000</td>\n",
       "      <td>43.250000</td>\n",
       "      <td>4.755</td>\n",
       "    </tr>\n",
       "    <tr>\n",
       "      <th>14</th>\n",
       "      <td>1.016520</td>\n",
       "      <td>133.0</td>\n",
       "      <td>3.600</td>\n",
       "      <td>15.850000</td>\n",
       "      <td>43.250000</td>\n",
       "      <td>4.755</td>\n",
       "    </tr>\n",
       "    <tr>\n",
       "      <th>15</th>\n",
       "      <td>1.020000</td>\n",
       "      <td>110.0</td>\n",
       "      <td>3.600</td>\n",
       "      <td>13.250000</td>\n",
       "      <td>47.150000</td>\n",
       "      <td>4.755</td>\n",
       "    </tr>\n",
       "    <tr>\n",
       "      <th>16</th>\n",
       "      <td>1.020000</td>\n",
       "      <td>133.0</td>\n",
       "      <td>3.600</td>\n",
       "      <td>15.850000</td>\n",
       "      <td>39.350000</td>\n",
       "      <td>5.345</td>\n",
       "    </tr>\n",
       "    <tr>\n",
       "      <th>17</th>\n",
       "      <td>1.020000</td>\n",
       "      <td>110.0</td>\n",
       "      <td>5.225</td>\n",
       "      <td>11.950000</td>\n",
       "      <td>39.350000</td>\n",
       "      <td>4.755</td>\n",
       "    </tr>\n",
       "    <tr>\n",
       "      <th>18</th>\n",
       "      <td>1.020000</td>\n",
       "      <td>133.0</td>\n",
       "      <td>3.600</td>\n",
       "      <td>11.950000</td>\n",
       "      <td>43.250000</td>\n",
       "      <td>6.525</td>\n",
       "    </tr>\n",
       "    <tr>\n",
       "      <th>19</th>\n",
       "      <td>1.020000</td>\n",
       "      <td>133.0</td>\n",
       "      <td>3.600</td>\n",
       "      <td>14.550000</td>\n",
       "      <td>43.250000</td>\n",
       "      <td>5.345</td>\n",
       "    </tr>\n",
       "  </tbody>\n",
       "</table>\n",
       "</div>"
      ],
      "text/plain": [
       "          sg    bgr     sc       hemo        pcv   rbcc\n",
       "0   1.020000  110.0  3.600  11.950000  35.450000  4.755\n",
       "1   1.010000  133.0  3.600  11.950000  35.450000  4.755\n",
       "2   1.010000  110.0  3.600   9.350000  31.550000  4.755\n",
       "3   1.010000  133.0  3.600  14.550000  43.250000  4.755\n",
       "4   1.016000  175.0  3.600  14.550000  39.350000  5.345\n",
       "5   1.023000  110.0  3.600  13.414756  41.860158  5.345\n",
       "6   1.020000  110.0  3.600  10.650000  31.550000  3.575\n",
       "7   1.020000  133.0  3.600  11.950000  39.350000  4.755\n",
       "8   1.017351  133.0  3.600  14.550000  39.350000  5.345\n",
       "9   1.010000  110.0  3.600   8.050000  23.750000  4.165\n",
       "10  1.020440  110.0  3.600  13.250000  43.250000  6.525\n",
       "11  1.018097  133.0  3.600  15.850000  47.150000  5.345\n",
       "12  1.020000  110.0  3.600  11.950000  39.350000  6.525\n",
       "13  1.016000  427.0  3.600  11.950000  43.250000  4.755\n",
       "14  1.016520  133.0  3.600  15.850000  43.250000  4.755\n",
       "15  1.020000  110.0  3.600  13.250000  47.150000  4.755\n",
       "16  1.020000  133.0  3.600  15.850000  39.350000  5.345\n",
       "17  1.020000  110.0  5.225  11.950000  39.350000  4.755\n",
       "18  1.020000  133.0  3.600  11.950000  43.250000  6.525\n",
       "19  1.020000  133.0  3.600  14.550000  43.250000  5.345"
      ]
     },
     "execution_count": 12,
     "metadata": {},
     "output_type": "execute_result"
    }
   ],
   "source": [
    "dl1.head(20)"
   ]
  },
  {
   "cell_type": "code",
   "execution_count": 13,
   "metadata": {},
   "outputs": [],
   "source": [
    "df3=data.drop(columns=['sg','bgr','sc','hemo','pcv','rbcc','Label'])"
   ]
  },
  {
   "cell_type": "code",
   "execution_count": 14,
   "metadata": {},
   "outputs": [
    {
     "data": {
      "text/html": [
       "<div>\n",
       "<style scoped>\n",
       "    .dataframe tbody tr th:only-of-type {\n",
       "        vertical-align: middle;\n",
       "    }\n",
       "\n",
       "    .dataframe tbody tr th {\n",
       "        vertical-align: top;\n",
       "    }\n",
       "\n",
       "    .dataframe thead th {\n",
       "        text-align: right;\n",
       "    }\n",
       "</style>\n",
       "<table border=\"1\" class=\"dataframe\">\n",
       "  <thead>\n",
       "    <tr style=\"text-align: right;\">\n",
       "      <th></th>\n",
       "      <th>rbc</th>\n",
       "      <th>htn</th>\n",
       "      <th>dm</th>\n",
       "    </tr>\n",
       "  </thead>\n",
       "  <tbody>\n",
       "    <tr>\n",
       "      <th>0</th>\n",
       "      <td>0</td>\n",
       "      <td>0</td>\n",
       "      <td>0</td>\n",
       "    </tr>\n",
       "    <tr>\n",
       "      <th>1</th>\n",
       "      <td>0</td>\n",
       "      <td>0</td>\n",
       "      <td>0</td>\n",
       "    </tr>\n",
       "    <tr>\n",
       "      <th>2</th>\n",
       "      <td>1</td>\n",
       "      <td>0</td>\n",
       "      <td>0</td>\n",
       "    </tr>\n",
       "    <tr>\n",
       "      <th>3</th>\n",
       "      <td>0</td>\n",
       "      <td>0</td>\n",
       "      <td>0</td>\n",
       "    </tr>\n",
       "    <tr>\n",
       "      <th>4</th>\n",
       "      <td>0</td>\n",
       "      <td>0</td>\n",
       "      <td>1</td>\n",
       "    </tr>\n",
       "    <tr>\n",
       "      <th>...</th>\n",
       "      <td>...</td>\n",
       "      <td>...</td>\n",
       "      <td>...</td>\n",
       "    </tr>\n",
       "    <tr>\n",
       "      <th>195</th>\n",
       "      <td>0</td>\n",
       "      <td>1</td>\n",
       "      <td>1</td>\n",
       "    </tr>\n",
       "    <tr>\n",
       "      <th>196</th>\n",
       "      <td>0</td>\n",
       "      <td>0</td>\n",
       "      <td>1</td>\n",
       "    </tr>\n",
       "    <tr>\n",
       "      <th>197</th>\n",
       "      <td>0</td>\n",
       "      <td>0</td>\n",
       "      <td>0</td>\n",
       "    </tr>\n",
       "    <tr>\n",
       "      <th>198</th>\n",
       "      <td>0</td>\n",
       "      <td>0</td>\n",
       "      <td>0</td>\n",
       "    </tr>\n",
       "    <tr>\n",
       "      <th>199</th>\n",
       "      <td>0</td>\n",
       "      <td>1</td>\n",
       "      <td>1</td>\n",
       "    </tr>\n",
       "  </tbody>\n",
       "</table>\n",
       "<p>200 rows × 3 columns</p>\n",
       "</div>"
      ],
      "text/plain": [
       "     rbc  htn  dm\n",
       "0      0    0   0\n",
       "1      0    0   0\n",
       "2      1    0   0\n",
       "3      0    0   0\n",
       "4      0    0   1\n",
       "..   ...  ...  ..\n",
       "195    0    1   1\n",
       "196    0    0   1\n",
       "197    0    0   0\n",
       "198    0    0   0\n",
       "199    0    1   1\n",
       "\n",
       "[200 rows x 3 columns]"
      ]
     },
     "execution_count": 14,
     "metadata": {},
     "output_type": "execute_result"
    }
   ],
   "source": [
    "df3"
   ]
  },
  {
   "cell_type": "code",
   "execution_count": 15,
   "metadata": {},
   "outputs": [],
   "source": [
    "x=pd.concat([dl1,df3],axis=1)"
   ]
  },
  {
   "cell_type": "code",
   "execution_count": 16,
   "metadata": {},
   "outputs": [
    {
     "data": {
      "text/html": [
       "<div>\n",
       "<style scoped>\n",
       "    .dataframe tbody tr th:only-of-type {\n",
       "        vertical-align: middle;\n",
       "    }\n",
       "\n",
       "    .dataframe tbody tr th {\n",
       "        vertical-align: top;\n",
       "    }\n",
       "\n",
       "    .dataframe thead th {\n",
       "        text-align: right;\n",
       "    }\n",
       "</style>\n",
       "<table border=\"1\" class=\"dataframe\">\n",
       "  <thead>\n",
       "    <tr style=\"text-align: right;\">\n",
       "      <th></th>\n",
       "      <th>sg</th>\n",
       "      <th>bgr</th>\n",
       "      <th>sc</th>\n",
       "      <th>hemo</th>\n",
       "      <th>pcv</th>\n",
       "      <th>rbcc</th>\n",
       "      <th>rbc</th>\n",
       "      <th>htn</th>\n",
       "      <th>dm</th>\n",
       "    </tr>\n",
       "  </thead>\n",
       "  <tbody>\n",
       "    <tr>\n",
       "      <th>0</th>\n",
       "      <td>1.020000</td>\n",
       "      <td>110.0</td>\n",
       "      <td>3.6</td>\n",
       "      <td>11.95</td>\n",
       "      <td>35.45</td>\n",
       "      <td>4.755</td>\n",
       "      <td>0</td>\n",
       "      <td>0</td>\n",
       "      <td>0</td>\n",
       "    </tr>\n",
       "    <tr>\n",
       "      <th>1</th>\n",
       "      <td>1.010000</td>\n",
       "      <td>133.0</td>\n",
       "      <td>3.6</td>\n",
       "      <td>11.95</td>\n",
       "      <td>35.45</td>\n",
       "      <td>4.755</td>\n",
       "      <td>0</td>\n",
       "      <td>0</td>\n",
       "      <td>0</td>\n",
       "    </tr>\n",
       "    <tr>\n",
       "      <th>2</th>\n",
       "      <td>1.010000</td>\n",
       "      <td>110.0</td>\n",
       "      <td>3.6</td>\n",
       "      <td>9.35</td>\n",
       "      <td>31.55</td>\n",
       "      <td>4.755</td>\n",
       "      <td>1</td>\n",
       "      <td>0</td>\n",
       "      <td>0</td>\n",
       "    </tr>\n",
       "    <tr>\n",
       "      <th>3</th>\n",
       "      <td>1.010000</td>\n",
       "      <td>133.0</td>\n",
       "      <td>3.6</td>\n",
       "      <td>14.55</td>\n",
       "      <td>43.25</td>\n",
       "      <td>4.755</td>\n",
       "      <td>0</td>\n",
       "      <td>0</td>\n",
       "      <td>0</td>\n",
       "    </tr>\n",
       "    <tr>\n",
       "      <th>4</th>\n",
       "      <td>1.016000</td>\n",
       "      <td>175.0</td>\n",
       "      <td>3.6</td>\n",
       "      <td>14.55</td>\n",
       "      <td>39.35</td>\n",
       "      <td>5.345</td>\n",
       "      <td>0</td>\n",
       "      <td>0</td>\n",
       "      <td>1</td>\n",
       "    </tr>\n",
       "    <tr>\n",
       "      <th>...</th>\n",
       "      <td>...</td>\n",
       "      <td>...</td>\n",
       "      <td>...</td>\n",
       "      <td>...</td>\n",
       "      <td>...</td>\n",
       "      <td>...</td>\n",
       "      <td>...</td>\n",
       "      <td>...</td>\n",
       "      <td>...</td>\n",
       "    </tr>\n",
       "    <tr>\n",
       "      <th>195</th>\n",
       "      <td>1.020000</td>\n",
       "      <td>175.0</td>\n",
       "      <td>3.6</td>\n",
       "      <td>9.35</td>\n",
       "      <td>31.55</td>\n",
       "      <td>4.755</td>\n",
       "      <td>0</td>\n",
       "      <td>1</td>\n",
       "      <td>1</td>\n",
       "    </tr>\n",
       "    <tr>\n",
       "      <th>196</th>\n",
       "      <td>1.020000</td>\n",
       "      <td>133.0</td>\n",
       "      <td>3.6</td>\n",
       "      <td>8.05</td>\n",
       "      <td>23.75</td>\n",
       "      <td>4.755</td>\n",
       "      <td>0</td>\n",
       "      <td>0</td>\n",
       "      <td>1</td>\n",
       "    </tr>\n",
       "    <tr>\n",
       "      <th>197</th>\n",
       "      <td>1.019508</td>\n",
       "      <td>110.0</td>\n",
       "      <td>3.6</td>\n",
       "      <td>15.85</td>\n",
       "      <td>39.35</td>\n",
       "      <td>6.525</td>\n",
       "      <td>0</td>\n",
       "      <td>0</td>\n",
       "      <td>0</td>\n",
       "    </tr>\n",
       "    <tr>\n",
       "      <th>198</th>\n",
       "      <td>1.017229</td>\n",
       "      <td>133.0</td>\n",
       "      <td>3.6</td>\n",
       "      <td>14.55</td>\n",
       "      <td>47.15</td>\n",
       "      <td>4.755</td>\n",
       "      <td>0</td>\n",
       "      <td>0</td>\n",
       "      <td>0</td>\n",
       "    </tr>\n",
       "    <tr>\n",
       "      <th>199</th>\n",
       "      <td>1.010000</td>\n",
       "      <td>133.0</td>\n",
       "      <td>3.6</td>\n",
       "      <td>13.25</td>\n",
       "      <td>39.35</td>\n",
       "      <td>4.165</td>\n",
       "      <td>0</td>\n",
       "      <td>1</td>\n",
       "      <td>1</td>\n",
       "    </tr>\n",
       "  </tbody>\n",
       "</table>\n",
       "<p>200 rows × 9 columns</p>\n",
       "</div>"
      ],
      "text/plain": [
       "           sg    bgr   sc   hemo    pcv   rbcc  rbc  htn  dm\n",
       "0    1.020000  110.0  3.6  11.95  35.45  4.755    0    0   0\n",
       "1    1.010000  133.0  3.6  11.95  35.45  4.755    0    0   0\n",
       "2    1.010000  110.0  3.6   9.35  31.55  4.755    1    0   0\n",
       "3    1.010000  133.0  3.6  14.55  43.25  4.755    0    0   0\n",
       "4    1.016000  175.0  3.6  14.55  39.35  5.345    0    0   1\n",
       "..        ...    ...  ...    ...    ...    ...  ...  ...  ..\n",
       "195  1.020000  175.0  3.6   9.35  31.55  4.755    0    1   1\n",
       "196  1.020000  133.0  3.6   8.05  23.75  4.755    0    0   1\n",
       "197  1.019508  110.0  3.6  15.85  39.35  6.525    0    0   0\n",
       "198  1.017229  133.0  3.6  14.55  47.15  4.755    0    0   0\n",
       "199  1.010000  133.0  3.6  13.25  39.35  4.165    0    1   1\n",
       "\n",
       "[200 rows x 9 columns]"
      ]
     },
     "execution_count": 16,
     "metadata": {},
     "output_type": "execute_result"
    }
   ],
   "source": [
    "x"
   ]
  },
  {
   "cell_type": "code",
   "execution_count": 17,
   "metadata": {},
   "outputs": [],
   "source": [
    "y=df['Label']"
   ]
  },
  {
   "cell_type": "code",
   "execution_count": 18,
   "metadata": {},
   "outputs": [],
   "source": [
    "a=pd.concat([x,y],axis=1)"
   ]
  },
  {
   "cell_type": "code",
   "execution_count": 19,
   "metadata": {},
   "outputs": [
    {
     "data": {
      "text/html": [
       "<div>\n",
       "<style scoped>\n",
       "    .dataframe tbody tr th:only-of-type {\n",
       "        vertical-align: middle;\n",
       "    }\n",
       "\n",
       "    .dataframe tbody tr th {\n",
       "        vertical-align: top;\n",
       "    }\n",
       "\n",
       "    .dataframe thead th {\n",
       "        text-align: right;\n",
       "    }\n",
       "</style>\n",
       "<table border=\"1\" class=\"dataframe\">\n",
       "  <thead>\n",
       "    <tr style=\"text-align: right;\">\n",
       "      <th></th>\n",
       "      <th>sg</th>\n",
       "      <th>bgr</th>\n",
       "      <th>sc</th>\n",
       "      <th>hemo</th>\n",
       "      <th>pcv</th>\n",
       "      <th>rbcc</th>\n",
       "      <th>rbc</th>\n",
       "      <th>htn</th>\n",
       "      <th>dm</th>\n",
       "      <th>Label</th>\n",
       "    </tr>\n",
       "  </thead>\n",
       "  <tbody>\n",
       "    <tr>\n",
       "      <th>0</th>\n",
       "      <td>1.020000</td>\n",
       "      <td>110.0</td>\n",
       "      <td>3.6</td>\n",
       "      <td>11.95</td>\n",
       "      <td>35.45</td>\n",
       "      <td>4.755</td>\n",
       "      <td>0</td>\n",
       "      <td>0</td>\n",
       "      <td>0</td>\n",
       "      <td>ckd</td>\n",
       "    </tr>\n",
       "    <tr>\n",
       "      <th>1</th>\n",
       "      <td>1.010000</td>\n",
       "      <td>133.0</td>\n",
       "      <td>3.6</td>\n",
       "      <td>11.95</td>\n",
       "      <td>35.45</td>\n",
       "      <td>4.755</td>\n",
       "      <td>0</td>\n",
       "      <td>0</td>\n",
       "      <td>0</td>\n",
       "      <td>ckd</td>\n",
       "    </tr>\n",
       "    <tr>\n",
       "      <th>2</th>\n",
       "      <td>1.010000</td>\n",
       "      <td>110.0</td>\n",
       "      <td>3.6</td>\n",
       "      <td>9.35</td>\n",
       "      <td>31.55</td>\n",
       "      <td>4.755</td>\n",
       "      <td>1</td>\n",
       "      <td>0</td>\n",
       "      <td>0</td>\n",
       "      <td>ckd</td>\n",
       "    </tr>\n",
       "    <tr>\n",
       "      <th>3</th>\n",
       "      <td>1.010000</td>\n",
       "      <td>133.0</td>\n",
       "      <td>3.6</td>\n",
       "      <td>14.55</td>\n",
       "      <td>43.25</td>\n",
       "      <td>4.755</td>\n",
       "      <td>0</td>\n",
       "      <td>0</td>\n",
       "      <td>0</td>\n",
       "      <td>ckd</td>\n",
       "    </tr>\n",
       "    <tr>\n",
       "      <th>4</th>\n",
       "      <td>1.016000</td>\n",
       "      <td>175.0</td>\n",
       "      <td>3.6</td>\n",
       "      <td>14.55</td>\n",
       "      <td>39.35</td>\n",
       "      <td>5.345</td>\n",
       "      <td>0</td>\n",
       "      <td>0</td>\n",
       "      <td>1</td>\n",
       "      <td>ckd</td>\n",
       "    </tr>\n",
       "    <tr>\n",
       "      <th>...</th>\n",
       "      <td>...</td>\n",
       "      <td>...</td>\n",
       "      <td>...</td>\n",
       "      <td>...</td>\n",
       "      <td>...</td>\n",
       "      <td>...</td>\n",
       "      <td>...</td>\n",
       "      <td>...</td>\n",
       "      <td>...</td>\n",
       "      <td>...</td>\n",
       "    </tr>\n",
       "    <tr>\n",
       "      <th>195</th>\n",
       "      <td>1.020000</td>\n",
       "      <td>175.0</td>\n",
       "      <td>3.6</td>\n",
       "      <td>9.35</td>\n",
       "      <td>31.55</td>\n",
       "      <td>4.755</td>\n",
       "      <td>0</td>\n",
       "      <td>1</td>\n",
       "      <td>1</td>\n",
       "      <td>ckd</td>\n",
       "    </tr>\n",
       "    <tr>\n",
       "      <th>196</th>\n",
       "      <td>1.020000</td>\n",
       "      <td>133.0</td>\n",
       "      <td>3.6</td>\n",
       "      <td>8.05</td>\n",
       "      <td>23.75</td>\n",
       "      <td>4.755</td>\n",
       "      <td>0</td>\n",
       "      <td>0</td>\n",
       "      <td>1</td>\n",
       "      <td>ckd</td>\n",
       "    </tr>\n",
       "    <tr>\n",
       "      <th>197</th>\n",
       "      <td>1.019508</td>\n",
       "      <td>110.0</td>\n",
       "      <td>3.6</td>\n",
       "      <td>15.85</td>\n",
       "      <td>39.35</td>\n",
       "      <td>6.525</td>\n",
       "      <td>0</td>\n",
       "      <td>0</td>\n",
       "      <td>0</td>\n",
       "      <td>notckd</td>\n",
       "    </tr>\n",
       "    <tr>\n",
       "      <th>198</th>\n",
       "      <td>1.017229</td>\n",
       "      <td>133.0</td>\n",
       "      <td>3.6</td>\n",
       "      <td>14.55</td>\n",
       "      <td>47.15</td>\n",
       "      <td>4.755</td>\n",
       "      <td>0</td>\n",
       "      <td>0</td>\n",
       "      <td>0</td>\n",
       "      <td>notckd</td>\n",
       "    </tr>\n",
       "    <tr>\n",
       "      <th>199</th>\n",
       "      <td>1.010000</td>\n",
       "      <td>133.0</td>\n",
       "      <td>3.6</td>\n",
       "      <td>13.25</td>\n",
       "      <td>39.35</td>\n",
       "      <td>4.165</td>\n",
       "      <td>0</td>\n",
       "      <td>1</td>\n",
       "      <td>1</td>\n",
       "      <td>ckd</td>\n",
       "    </tr>\n",
       "  </tbody>\n",
       "</table>\n",
       "<p>200 rows × 10 columns</p>\n",
       "</div>"
      ],
      "text/plain": [
       "           sg    bgr   sc   hemo    pcv   rbcc  rbc  htn  dm   Label\n",
       "0    1.020000  110.0  3.6  11.95  35.45  4.755    0    0   0     ckd\n",
       "1    1.010000  133.0  3.6  11.95  35.45  4.755    0    0   0     ckd\n",
       "2    1.010000  110.0  3.6   9.35  31.55  4.755    1    0   0     ckd\n",
       "3    1.010000  133.0  3.6  14.55  43.25  4.755    0    0   0     ckd\n",
       "4    1.016000  175.0  3.6  14.55  39.35  5.345    0    0   1     ckd\n",
       "..        ...    ...  ...    ...    ...    ...  ...  ...  ..     ...\n",
       "195  1.020000  175.0  3.6   9.35  31.55  4.755    0    1   1     ckd\n",
       "196  1.020000  133.0  3.6   8.05  23.75  4.755    0    0   1     ckd\n",
       "197  1.019508  110.0  3.6  15.85  39.35  6.525    0    0   0  notckd\n",
       "198  1.017229  133.0  3.6  14.55  47.15  4.755    0    0   0  notckd\n",
       "199  1.010000  133.0  3.6  13.25  39.35  4.165    0    1   1     ckd\n",
       "\n",
       "[200 rows x 10 columns]"
      ]
     },
     "execution_count": 19,
     "metadata": {},
     "output_type": "execute_result"
    }
   ],
   "source": [
    "a"
   ]
  },
  {
   "cell_type": "code",
   "execution_count": 20,
   "metadata": {},
   "outputs": [],
   "source": [
    "#a=a.sort_values(['bu'],ascending=False)\n",
    "#a.reset_index(drop=True,inplace=True)"
   ]
  },
  {
   "cell_type": "code",
   "execution_count": 21,
   "metadata": {},
   "outputs": [],
   "source": [
    "#a.tail(40)"
   ]
  },
  {
   "cell_type": "code",
   "execution_count": 22,
   "metadata": {},
   "outputs": [],
   "source": [
    "Label={'notckd':0,'ckd':1}\n",
    "a['Label']=a['Label'].map(Label)"
   ]
  },
  {
   "cell_type": "code",
   "execution_count": 23,
   "metadata": {},
   "outputs": [
    {
     "data": {
      "text/html": [
       "<div>\n",
       "<style scoped>\n",
       "    .dataframe tbody tr th:only-of-type {\n",
       "        vertical-align: middle;\n",
       "    }\n",
       "\n",
       "    .dataframe tbody tr th {\n",
       "        vertical-align: top;\n",
       "    }\n",
       "\n",
       "    .dataframe thead th {\n",
       "        text-align: right;\n",
       "    }\n",
       "</style>\n",
       "<table border=\"1\" class=\"dataframe\">\n",
       "  <thead>\n",
       "    <tr style=\"text-align: right;\">\n",
       "      <th></th>\n",
       "      <th>sg</th>\n",
       "      <th>bgr</th>\n",
       "      <th>sc</th>\n",
       "      <th>hemo</th>\n",
       "      <th>pcv</th>\n",
       "      <th>rbcc</th>\n",
       "      <th>rbc</th>\n",
       "      <th>htn</th>\n",
       "      <th>dm</th>\n",
       "      <th>Label</th>\n",
       "    </tr>\n",
       "  </thead>\n",
       "  <tbody>\n",
       "    <tr>\n",
       "      <th>0</th>\n",
       "      <td>1.020000</td>\n",
       "      <td>110.0</td>\n",
       "      <td>3.600</td>\n",
       "      <td>11.950000</td>\n",
       "      <td>35.450000</td>\n",
       "      <td>4.755</td>\n",
       "      <td>0</td>\n",
       "      <td>0</td>\n",
       "      <td>0</td>\n",
       "      <td>1</td>\n",
       "    </tr>\n",
       "    <tr>\n",
       "      <th>1</th>\n",
       "      <td>1.010000</td>\n",
       "      <td>133.0</td>\n",
       "      <td>3.600</td>\n",
       "      <td>11.950000</td>\n",
       "      <td>35.450000</td>\n",
       "      <td>4.755</td>\n",
       "      <td>0</td>\n",
       "      <td>0</td>\n",
       "      <td>0</td>\n",
       "      <td>1</td>\n",
       "    </tr>\n",
       "    <tr>\n",
       "      <th>2</th>\n",
       "      <td>1.010000</td>\n",
       "      <td>110.0</td>\n",
       "      <td>3.600</td>\n",
       "      <td>9.350000</td>\n",
       "      <td>31.550000</td>\n",
       "      <td>4.755</td>\n",
       "      <td>1</td>\n",
       "      <td>0</td>\n",
       "      <td>0</td>\n",
       "      <td>1</td>\n",
       "    </tr>\n",
       "    <tr>\n",
       "      <th>3</th>\n",
       "      <td>1.010000</td>\n",
       "      <td>133.0</td>\n",
       "      <td>3.600</td>\n",
       "      <td>14.550000</td>\n",
       "      <td>43.250000</td>\n",
       "      <td>4.755</td>\n",
       "      <td>0</td>\n",
       "      <td>0</td>\n",
       "      <td>0</td>\n",
       "      <td>1</td>\n",
       "    </tr>\n",
       "    <tr>\n",
       "      <th>4</th>\n",
       "      <td>1.016000</td>\n",
       "      <td>175.0</td>\n",
       "      <td>3.600</td>\n",
       "      <td>14.550000</td>\n",
       "      <td>39.350000</td>\n",
       "      <td>5.345</td>\n",
       "      <td>0</td>\n",
       "      <td>0</td>\n",
       "      <td>1</td>\n",
       "      <td>1</td>\n",
       "    </tr>\n",
       "    <tr>\n",
       "      <th>5</th>\n",
       "      <td>1.023000</td>\n",
       "      <td>110.0</td>\n",
       "      <td>3.600</td>\n",
       "      <td>13.414756</td>\n",
       "      <td>41.860158</td>\n",
       "      <td>5.345</td>\n",
       "      <td>0</td>\n",
       "      <td>0</td>\n",
       "      <td>0</td>\n",
       "      <td>0</td>\n",
       "    </tr>\n",
       "    <tr>\n",
       "      <th>6</th>\n",
       "      <td>1.020000</td>\n",
       "      <td>110.0</td>\n",
       "      <td>3.600</td>\n",
       "      <td>10.650000</td>\n",
       "      <td>31.550000</td>\n",
       "      <td>3.575</td>\n",
       "      <td>0</td>\n",
       "      <td>1</td>\n",
       "      <td>1</td>\n",
       "      <td>1</td>\n",
       "    </tr>\n",
       "    <tr>\n",
       "      <th>7</th>\n",
       "      <td>1.020000</td>\n",
       "      <td>133.0</td>\n",
       "      <td>3.600</td>\n",
       "      <td>11.950000</td>\n",
       "      <td>39.350000</td>\n",
       "      <td>4.755</td>\n",
       "      <td>0</td>\n",
       "      <td>0</td>\n",
       "      <td>0</td>\n",
       "      <td>1</td>\n",
       "    </tr>\n",
       "    <tr>\n",
       "      <th>8</th>\n",
       "      <td>1.017351</td>\n",
       "      <td>133.0</td>\n",
       "      <td>3.600</td>\n",
       "      <td>14.550000</td>\n",
       "      <td>39.350000</td>\n",
       "      <td>5.345</td>\n",
       "      <td>0</td>\n",
       "      <td>0</td>\n",
       "      <td>0</td>\n",
       "      <td>0</td>\n",
       "    </tr>\n",
       "    <tr>\n",
       "      <th>9</th>\n",
       "      <td>1.010000</td>\n",
       "      <td>110.0</td>\n",
       "      <td>3.600</td>\n",
       "      <td>8.050000</td>\n",
       "      <td>23.750000</td>\n",
       "      <td>4.165</td>\n",
       "      <td>0</td>\n",
       "      <td>0</td>\n",
       "      <td>0</td>\n",
       "      <td>1</td>\n",
       "    </tr>\n",
       "    <tr>\n",
       "      <th>10</th>\n",
       "      <td>1.020440</td>\n",
       "      <td>110.0</td>\n",
       "      <td>3.600</td>\n",
       "      <td>13.250000</td>\n",
       "      <td>43.250000</td>\n",
       "      <td>6.525</td>\n",
       "      <td>0</td>\n",
       "      <td>0</td>\n",
       "      <td>0</td>\n",
       "      <td>0</td>\n",
       "    </tr>\n",
       "    <tr>\n",
       "      <th>11</th>\n",
       "      <td>1.018097</td>\n",
       "      <td>133.0</td>\n",
       "      <td>3.600</td>\n",
       "      <td>15.850000</td>\n",
       "      <td>47.150000</td>\n",
       "      <td>5.345</td>\n",
       "      <td>0</td>\n",
       "      <td>0</td>\n",
       "      <td>0</td>\n",
       "      <td>0</td>\n",
       "    </tr>\n",
       "    <tr>\n",
       "      <th>12</th>\n",
       "      <td>1.020000</td>\n",
       "      <td>110.0</td>\n",
       "      <td>3.600</td>\n",
       "      <td>11.950000</td>\n",
       "      <td>39.350000</td>\n",
       "      <td>6.525</td>\n",
       "      <td>0</td>\n",
       "      <td>0</td>\n",
       "      <td>0</td>\n",
       "      <td>0</td>\n",
       "    </tr>\n",
       "    <tr>\n",
       "      <th>13</th>\n",
       "      <td>1.016000</td>\n",
       "      <td>427.0</td>\n",
       "      <td>3.600</td>\n",
       "      <td>11.950000</td>\n",
       "      <td>43.250000</td>\n",
       "      <td>4.755</td>\n",
       "      <td>0</td>\n",
       "      <td>0</td>\n",
       "      <td>1</td>\n",
       "      <td>1</td>\n",
       "    </tr>\n",
       "    <tr>\n",
       "      <th>14</th>\n",
       "      <td>1.016520</td>\n",
       "      <td>133.0</td>\n",
       "      <td>3.600</td>\n",
       "      <td>15.850000</td>\n",
       "      <td>43.250000</td>\n",
       "      <td>4.755</td>\n",
       "      <td>0</td>\n",
       "      <td>0</td>\n",
       "      <td>0</td>\n",
       "      <td>0</td>\n",
       "    </tr>\n",
       "    <tr>\n",
       "      <th>15</th>\n",
       "      <td>1.020000</td>\n",
       "      <td>110.0</td>\n",
       "      <td>3.600</td>\n",
       "      <td>13.250000</td>\n",
       "      <td>47.150000</td>\n",
       "      <td>4.755</td>\n",
       "      <td>0</td>\n",
       "      <td>0</td>\n",
       "      <td>0</td>\n",
       "      <td>0</td>\n",
       "    </tr>\n",
       "    <tr>\n",
       "      <th>16</th>\n",
       "      <td>1.020000</td>\n",
       "      <td>133.0</td>\n",
       "      <td>3.600</td>\n",
       "      <td>15.850000</td>\n",
       "      <td>39.350000</td>\n",
       "      <td>5.345</td>\n",
       "      <td>0</td>\n",
       "      <td>0</td>\n",
       "      <td>0</td>\n",
       "      <td>0</td>\n",
       "    </tr>\n",
       "    <tr>\n",
       "      <th>17</th>\n",
       "      <td>1.020000</td>\n",
       "      <td>110.0</td>\n",
       "      <td>5.225</td>\n",
       "      <td>11.950000</td>\n",
       "      <td>39.350000</td>\n",
       "      <td>4.755</td>\n",
       "      <td>0</td>\n",
       "      <td>0</td>\n",
       "      <td>0</td>\n",
       "      <td>1</td>\n",
       "    </tr>\n",
       "    <tr>\n",
       "      <th>18</th>\n",
       "      <td>1.020000</td>\n",
       "      <td>133.0</td>\n",
       "      <td>3.600</td>\n",
       "      <td>11.950000</td>\n",
       "      <td>43.250000</td>\n",
       "      <td>6.525</td>\n",
       "      <td>0</td>\n",
       "      <td>0</td>\n",
       "      <td>0</td>\n",
       "      <td>0</td>\n",
       "    </tr>\n",
       "    <tr>\n",
       "      <th>19</th>\n",
       "      <td>1.020000</td>\n",
       "      <td>133.0</td>\n",
       "      <td>3.600</td>\n",
       "      <td>14.550000</td>\n",
       "      <td>43.250000</td>\n",
       "      <td>5.345</td>\n",
       "      <td>0</td>\n",
       "      <td>0</td>\n",
       "      <td>0</td>\n",
       "      <td>0</td>\n",
       "    </tr>\n",
       "  </tbody>\n",
       "</table>\n",
       "</div>"
      ],
      "text/plain": [
       "          sg    bgr     sc       hemo        pcv   rbcc  rbc  htn  dm  Label\n",
       "0   1.020000  110.0  3.600  11.950000  35.450000  4.755    0    0   0      1\n",
       "1   1.010000  133.0  3.600  11.950000  35.450000  4.755    0    0   0      1\n",
       "2   1.010000  110.0  3.600   9.350000  31.550000  4.755    1    0   0      1\n",
       "3   1.010000  133.0  3.600  14.550000  43.250000  4.755    0    0   0      1\n",
       "4   1.016000  175.0  3.600  14.550000  39.350000  5.345    0    0   1      1\n",
       "5   1.023000  110.0  3.600  13.414756  41.860158  5.345    0    0   0      0\n",
       "6   1.020000  110.0  3.600  10.650000  31.550000  3.575    0    1   1      1\n",
       "7   1.020000  133.0  3.600  11.950000  39.350000  4.755    0    0   0      1\n",
       "8   1.017351  133.0  3.600  14.550000  39.350000  5.345    0    0   0      0\n",
       "9   1.010000  110.0  3.600   8.050000  23.750000  4.165    0    0   0      1\n",
       "10  1.020440  110.0  3.600  13.250000  43.250000  6.525    0    0   0      0\n",
       "11  1.018097  133.0  3.600  15.850000  47.150000  5.345    0    0   0      0\n",
       "12  1.020000  110.0  3.600  11.950000  39.350000  6.525    0    0   0      0\n",
       "13  1.016000  427.0  3.600  11.950000  43.250000  4.755    0    0   1      1\n",
       "14  1.016520  133.0  3.600  15.850000  43.250000  4.755    0    0   0      0\n",
       "15  1.020000  110.0  3.600  13.250000  47.150000  4.755    0    0   0      0\n",
       "16  1.020000  133.0  3.600  15.850000  39.350000  5.345    0    0   0      0\n",
       "17  1.020000  110.0  5.225  11.950000  39.350000  4.755    0    0   0      1\n",
       "18  1.020000  133.0  3.600  11.950000  43.250000  6.525    0    0   0      0\n",
       "19  1.020000  133.0  3.600  14.550000  43.250000  5.345    0    0   0      0"
      ]
     },
     "execution_count": 23,
     "metadata": {},
     "output_type": "execute_result"
    }
   ],
   "source": [
    "a.head(20)"
   ]
  },
  {
   "cell_type": "code",
   "execution_count": 24,
   "metadata": {},
   "outputs": [],
   "source": [
    "u=a.iloc[:,:-1]\n",
    "v=a['Label']"
   ]
  },
  {
   "cell_type": "code",
   "execution_count": 25,
   "metadata": {},
   "outputs": [],
   "source": [
    "from imblearn.over_sampling import SMOTE\n",
    "from imblearn.over_sampling import SVMSMOTE "
   ]
  },
  {
   "cell_type": "code",
   "execution_count": 26,
   "metadata": {},
   "outputs": [],
   "source": [
    "smote=SMOTE()\n",
    "sm = SVMSMOTE()"
   ]
  },
  {
   "cell_type": "code",
   "execution_count": 27,
   "metadata": {},
   "outputs": [],
   "source": [
    "x_train_resample,y_train_resample=sm.fit_resample(u,v) "
   ]
  },
  {
   "cell_type": "code",
   "execution_count": 28,
   "metadata": {},
   "outputs": [],
   "source": [
    "from sklearn.preprocessing import StandardScaler\n",
    "scaler=StandardScaler()\n",
    "k=scaler.fit_transform(x_train_resample)"
   ]
  },
  {
   "cell_type": "code",
   "execution_count": 29,
   "metadata": {},
   "outputs": [],
   "source": [
    "from sklearn.model_selection import train_test_split\n",
    "x_train,x_test,y_train,y_test=train_test_split(k,y_train_resample,test_size=0.2, random_state=0)"
   ]
  },
  {
   "cell_type": "code",
   "execution_count": 30,
   "metadata": {},
   "outputs": [],
   "source": [
    "from sklearn.model_selection import KFold\n",
    "from sklearn.model_selection import ShuffleSplit\n",
    "fold=ShuffleSplit(n_splits=5, test_size=0.1, random_state=0)\n",
    "fold1=KFold(5)\n",
    "from sklearn.model_selection import cross_val_score\n",
    "from sklearn.model_selection import learning_curve"
   ]
  },
  {
   "cell_type": "code",
   "execution_count": 31,
   "metadata": {},
   "outputs": [],
   "source": [
    "from sklearn.svm import SVC\n",
    "from sklearn.neighbors import KNeighborsClassifier\n",
    "from sklearn.tree import DecisionTreeClassifier\n",
    "from sklearn.linear_model import LogisticRegression\n",
    "from sklearn.discriminant_analysis import QuadraticDiscriminantAnalysis\n",
    "from sklearn.ensemble import RandomForestClassifier\n",
    "from sklearn.ensemble import VotingClassifier\n",
    "from sklearn.ensemble import BaggingClassifier\n",
    "from sklearn.ensemble import AdaBoostClassifier\n",
    "from sklearn.ensemble import GradientBoostingClassifier\n",
    "from xgboost import XGBClassifier\n",
    "from lightgbm import LGBMClassifier\n",
    "from sklearn.ensemble import StackingClassifier"
   ]
  },
  {
   "cell_type": "code",
   "execution_count": 84,
   "metadata": {},
   "outputs": [],
   "source": [
    "svm=SVC(C=10,kernel='rbf',gamma=0.1,probability=True)\n",
    "knn=KNeighborsClassifier(n_neighbors=3)\n",
    "rf=RandomForestClassifier(n_estimators=80,max_features='auto',bootstrap=True,\n",
    "                          min_samples_split=7,min_samples_leaf=5,max_depth=None,random_state=0)\n",
    "qda = QuadraticDiscriminantAnalysis()\n",
    "tree=DecisionTreeClassifier(criterion='gini',min_samples_split=3,random_state=0,max_depth=None)\n",
    "tree1=DecisionTreeClassifier(criterion='gini',min_samples_split=3,random_state=0,max_depth=8)\n",
    "estimators1=[('svc',svm),('knn',knn)]\n",
    "sc=StackingClassifier(estimators=estimators1,final_estimator=rf)\n",
    "estimators=[('svc',svm),('rf',rf),('knn',knn)]\n",
    "\n",
    "voting=VotingClassifier(estimators=estimators,voting='soft')\n",
    "bag=BaggingClassifier(\n",
    "    base_estimator=tree,\n",
    "    n_estimators=500,\n",
    "    bootstrap=True,\n",
    "    bootstrap_features=False,\n",
    "    n_jobs=-1,\n",
    "    random_state=0\n",
    "    )\n",
    "ada= AdaBoostClassifier(\n",
    "      base_estimator=tree1,n_estimators=500,algorithm='SAMME', \n",
    "      random_state=0\n",
    "      )\n",
    "gdb=GradientBoostingClassifier(n_estimators=100,max_depth=4,learning_rate=0.1,min_samples_leaf=10)\n",
    "lgb=LGBMClassifier(n_estimators=100,max_depth=8,learning_rate=0.1,min_child_weight=1)\n",
    "xgb=XGBClassifier(n_estimators=700,max_depth=8,learning_rate=0.20,min_child_weight=2)"
   ]
  },
  {
   "cell_type": "code",
   "execution_count": 75,
   "metadata": {},
   "outputs": [],
   "source": [
    "labels=['svm','knn','tree','rf','qda','voting','bag','ada','gdb','xgb','lgb','sc']"
   ]
  },
  {
   "cell_type": "code",
   "execution_count": 76,
   "metadata": {},
   "outputs": [
    {
     "name": "stdout",
     "output_type": "stream",
     "text": [
      "Time consumed for training: 0.022 seconds\n",
      "1.0000accuracy with a standard deviation of 0.0000 svm\n",
      "Time consumed for training: 0.019 seconds\n",
      "1.0000accuracy with a standard deviation of 0.0000 knn\n",
      "Time consumed for training: 0.010 seconds\n",
      "0.9810accuracy with a standard deviation of 0.0381 tree\n",
      "Time consumed for training: 0.659 seconds\n",
      "0.9714accuracy with a standard deviation of 0.0233 rf\n",
      "Time consumed for training: 0.011 seconds\n",
      "0.4190accuracy with a standard deviation of 0.1457 qda\n"
     ]
    },
    {
     "name": "stderr",
     "output_type": "stream",
     "text": [
      "C:\\Users\\MD SABBIR SK\\anaconda3\\lib\\site-packages\\sklearn\\discriminant_analysis.py:808: UserWarning: Variables are collinear\n",
      "  warnings.warn(\"Variables are collinear\")\n",
      "C:\\Users\\MD SABBIR SK\\anaconda3\\lib\\site-packages\\sklearn\\discriminant_analysis.py:808: UserWarning: Variables are collinear\n",
      "  warnings.warn(\"Variables are collinear\")\n",
      "C:\\Users\\MD SABBIR SK\\anaconda3\\lib\\site-packages\\sklearn\\discriminant_analysis.py:808: UserWarning: Variables are collinear\n",
      "  warnings.warn(\"Variables are collinear\")\n",
      "C:\\Users\\MD SABBIR SK\\anaconda3\\lib\\site-packages\\sklearn\\discriminant_analysis.py:808: UserWarning: Variables are collinear\n",
      "  warnings.warn(\"Variables are collinear\")\n",
      "C:\\Users\\MD SABBIR SK\\anaconda3\\lib\\site-packages\\sklearn\\discriminant_analysis.py:808: UserWarning: Variables are collinear\n",
      "  warnings.warn(\"Variables are collinear\")\n"
     ]
    },
    {
     "name": "stdout",
     "output_type": "stream",
     "text": [
      "Time consumed for training: 0.659 seconds\n",
      "1.0000accuracy with a standard deviation of 0.0000 voting\n",
      "Time consumed for training: 1.962 seconds\n",
      "0.9810accuracy with a standard deviation of 0.0233 bag\n",
      "Time consumed for training: 3.170 seconds\n",
      "0.9714accuracy with a standard deviation of 0.0233 ada\n",
      "Time consumed for training: 0.319 seconds\n",
      "0.9810accuracy with a standard deviation of 0.0233 gdb\n",
      "[23:33:10] WARNING: C:/Users/Administrator/workspace/xgboost-win64_release_1.4.0/src/learner.cc:1095: Starting in XGBoost 1.3.0, the default evaluation metric used with the objective 'binary:logistic' was changed from 'error' to 'logloss'. Explicitly set eval_metric if you'd like to restore the old behavior.\n",
      "[23:33:10] WARNING: C:/Users/Administrator/workspace/xgboost-win64_release_1.4.0/src/learner.cc:1095: Starting in XGBoost 1.3.0, the default evaluation metric used with the objective 'binary:logistic' was changed from 'error' to 'logloss'. Explicitly set eval_metric if you'd like to restore the old behavior.\n"
     ]
    },
    {
     "name": "stderr",
     "output_type": "stream",
     "text": [
      "C:\\Users\\MD SABBIR SK\\anaconda3\\lib\\site-packages\\xgboost\\sklearn.py:1146: UserWarning: The use of label encoder in XGBClassifier is deprecated and will be removed in a future release. To remove this warning, do the following: 1) Pass option use_label_encoder=False when constructing XGBClassifier object; and 2) Encode your labels (y) as integers starting with 0, i.e. 0, 1, 2, ..., [num_class - 1].\n",
      "  warnings.warn(label_encoder_deprecation_msg, UserWarning)\n",
      "C:\\Users\\MD SABBIR SK\\anaconda3\\lib\\site-packages\\xgboost\\sklearn.py:1146: UserWarning: The use of label encoder in XGBClassifier is deprecated and will be removed in a future release. To remove this warning, do the following: 1) Pass option use_label_encoder=False when constructing XGBClassifier object; and 2) Encode your labels (y) as integers starting with 0, i.e. 0, 1, 2, ..., [num_class - 1].\n",
      "  warnings.warn(label_encoder_deprecation_msg, UserWarning)\n",
      "C:\\Users\\MD SABBIR SK\\anaconda3\\lib\\site-packages\\xgboost\\sklearn.py:1146: UserWarning: The use of label encoder in XGBClassifier is deprecated and will be removed in a future release. To remove this warning, do the following: 1) Pass option use_label_encoder=False when constructing XGBClassifier object; and 2) Encode your labels (y) as integers starting with 0, i.e. 0, 1, 2, ..., [num_class - 1].\n",
      "  warnings.warn(label_encoder_deprecation_msg, UserWarning)\n",
      "C:\\Users\\MD SABBIR SK\\anaconda3\\lib\\site-packages\\xgboost\\sklearn.py:1146: UserWarning: The use of label encoder in XGBClassifier is deprecated and will be removed in a future release. To remove this warning, do the following: 1) Pass option use_label_encoder=False when constructing XGBClassifier object; and 2) Encode your labels (y) as integers starting with 0, i.e. 0, 1, 2, ..., [num_class - 1].\n",
      "  warnings.warn(label_encoder_deprecation_msg, UserWarning)\n"
     ]
    },
    {
     "name": "stdout",
     "output_type": "stream",
     "text": [
      "[23:33:10] WARNING: C:/Users/Administrator/workspace/xgboost-win64_release_1.4.0/src/learner.cc:1095: Starting in XGBoost 1.3.0, the default evaluation metric used with the objective 'binary:logistic' was changed from 'error' to 'logloss'. Explicitly set eval_metric if you'd like to restore the old behavior.\n",
      "[23:33:10] WARNING: C:/Users/Administrator/workspace/xgboost-win64_release_1.4.0/src/learner.cc:1095: Starting in XGBoost 1.3.0, the default evaluation metric used with the objective 'binary:logistic' was changed from 'error' to 'logloss'. Explicitly set eval_metric if you'd like to restore the old behavior.\n"
     ]
    },
    {
     "name": "stderr",
     "output_type": "stream",
     "text": [
      "C:\\Users\\MD SABBIR SK\\anaconda3\\lib\\site-packages\\xgboost\\sklearn.py:1146: UserWarning: The use of label encoder in XGBClassifier is deprecated and will be removed in a future release. To remove this warning, do the following: 1) Pass option use_label_encoder=False when constructing XGBClassifier object; and 2) Encode your labels (y) as integers starting with 0, i.e. 0, 1, 2, ..., [num_class - 1].\n",
      "  warnings.warn(label_encoder_deprecation_msg, UserWarning)\n"
     ]
    },
    {
     "name": "stdout",
     "output_type": "stream",
     "text": [
      "[23:33:10] WARNING: C:/Users/Administrator/workspace/xgboost-win64_release_1.4.0/src/learner.cc:1095: Starting in XGBoost 1.3.0, the default evaluation metric used with the objective 'binary:logistic' was changed from 'error' to 'logloss'. Explicitly set eval_metric if you'd like to restore the old behavior.\n",
      "Time consumed for training: 0.610 seconds\n",
      "0.9714accuracy with a standard deviation of 0.0233 xgb\n",
      "Time consumed for training: 0.050 seconds\n",
      "0.9714accuracy with a standard deviation of 0.0233 lgb\n",
      "Time consumed for training: 0.687 seconds\n",
      "0.9905accuracy with a standard deviation of 0.0190 sc\n"
     ]
    }
   ],
   "source": [
    "for clf,label in zip([svm,knn,tree,rf,qda,voting,bag,ada,gdb,xgb,lgb,sc],labels):\n",
    "    training_start = time.perf_counter()\n",
    "    results_svm=cross_val_score(clf,x_train,y_train,cv=fold,scoring='accuracy')\n",
    "    training_end = time.perf_counter()\n",
    "    train_time = training_end-training_start\n",
    "    print(\"Time consumed for training: %4.3f seconds\" % (train_time))\n",
    "    print(\"%0.4faccuracy with a standard deviation of %0.4f\" % (results_svm.mean(), results_svm.std()),label)"
   ]
  },
  {
   "cell_type": "code",
   "execution_count": 35,
   "metadata": {},
   "outputs": [],
   "source": [
    "from sklearn.metrics import confusion_matrix\n",
    "from sklearn.metrics import accuracy_score,precision_score,recall_score,f1_score,roc_auc_score "
   ]
  },
  {
   "cell_type": "code",
   "execution_count": 36,
   "metadata": {},
   "outputs": [
    {
     "name": "stdout",
     "output_type": "stream",
     "text": [
      "Time consumed for training: 0.003 seconds\n",
      "1.0 svm\n",
      "[[22  0]\n",
      " [ 0 30]]\n",
      "1.0\n",
      "1.0\n",
      "1.0\n",
      "1.0\n",
      "Time consumed for training: 0.001 seconds\n",
      "1.0 knn\n",
      "[[22  0]\n",
      " [ 0 30]]\n",
      "1.0\n",
      "1.0\n",
      "1.0\n",
      "1.0\n",
      "Time consumed for training: 0.001 seconds\n",
      "0.9807692307692307 tree\n",
      "[[22  0]\n",
      " [ 1 29]]\n",
      "1.0\n",
      "0.9666666666666667\n",
      "0.983050847457627\n",
      "0.9833333333333334\n",
      "Time consumed for training: 0.104 seconds\n",
      "0.9615384615384616 rf\n",
      "[[20  2]\n",
      " [ 0 30]]\n",
      "0.9375\n",
      "1.0\n",
      "0.967741935483871\n",
      "0.9545454545454545\n",
      "Time consumed for training: 0.001 seconds\n",
      "0.5769230769230769 qda\n",
      "[[ 0 22]\n",
      " [ 0 30]]\n",
      "0.5769230769230769\n",
      "1.0\n",
      "0.7317073170731707\n",
      "0.5\n"
     ]
    },
    {
     "name": "stderr",
     "output_type": "stream",
     "text": [
      "C:\\Users\\MD SABBIR SK\\anaconda3\\lib\\site-packages\\sklearn\\discriminant_analysis.py:808: UserWarning: Variables are collinear\n",
      "  warnings.warn(\"Variables are collinear\")\n",
      "C:\\Users\\MD SABBIR SK\\anaconda3\\lib\\site-packages\\sklearn\\discriminant_analysis.py:808: UserWarning: Variables are collinear\n",
      "  warnings.warn(\"Variables are collinear\")\n"
     ]
    },
    {
     "name": "stdout",
     "output_type": "stream",
     "text": [
      "Time consumed for training: 0.151 seconds\n",
      "1.0 voting\n",
      "[[22  0]\n",
      " [ 0 30]]\n",
      "1.0\n",
      "1.0\n",
      "1.0\n",
      "1.0\n",
      "Time consumed for training: 0.314 seconds\n",
      "0.9807692307692307 bag\n",
      "[[21  1]\n",
      " [ 0 30]]\n",
      "0.967741935483871\n",
      "1.0\n",
      "0.9836065573770492\n",
      "0.9772727272727273\n",
      "Time consumed for training: 0.586 seconds\n",
      "1.0 ada\n",
      "[[22  0]\n",
      " [ 0 30]]\n",
      "1.0\n",
      "1.0\n",
      "1.0\n",
      "1.0\n",
      "Time consumed for training: 0.065 seconds\n",
      "0.9807692307692307 gdb\n",
      "[[21  1]\n",
      " [ 0 30]]\n",
      "0.967741935483871\n",
      "1.0\n",
      "0.9836065573770492\n",
      "0.9772727272727273\n",
      "[23:14:03] WARNING: C:/Users/Administrator/workspace/xgboost-win64_release_1.4.0/src/learner.cc:1095: Starting in XGBoost 1.3.0, the default evaluation metric used with the objective 'binary:logistic' was changed from 'error' to 'logloss'. Explicitly set eval_metric if you'd like to restore the old behavior.\n"
     ]
    },
    {
     "name": "stderr",
     "output_type": "stream",
     "text": [
      "C:\\Users\\MD SABBIR SK\\anaconda3\\lib\\site-packages\\xgboost\\sklearn.py:1146: UserWarning: The use of label encoder in XGBClassifier is deprecated and will be removed in a future release. To remove this warning, do the following: 1) Pass option use_label_encoder=False when constructing XGBClassifier object; and 2) Encode your labels (y) as integers starting with 0, i.e. 0, 1, 2, ..., [num_class - 1].\n",
      "  warnings.warn(label_encoder_deprecation_msg, UserWarning)\n"
     ]
    },
    {
     "name": "stdout",
     "output_type": "stream",
     "text": [
      "Time consumed for training: 0.142 seconds\n",
      "0.9615384615384616 xgb\n",
      "[[20  2]\n",
      " [ 0 30]]\n",
      "0.9375\n",
      "1.0\n",
      "0.967741935483871\n",
      "0.9545454545454545\n",
      "Time consumed for training: 0.012 seconds\n",
      "0.9807692307692307 lgb\n",
      "[[21  1]\n",
      " [ 0 30]]\n",
      "0.967741935483871\n",
      "1.0\n",
      "0.9836065573770492\n",
      "0.9772727272727273\n",
      "Time consumed for training: 0.027 seconds\n",
      "1.0 sc\n",
      "[[22  0]\n",
      " [ 0 30]]\n",
      "1.0\n",
      "1.0\n",
      "1.0\n",
      "1.0\n"
     ]
    }
   ],
   "source": [
    "for clf,label in zip([svm,knn,tree,rf,qda,voting,bag,ada,gdb,xgb,lgb,sc],labels):\n",
    "    training_start = time.perf_counter()\n",
    "    clf.fit(x_train,y_train)\n",
    "    training_end = time.perf_counter()\n",
    "    train_time = training_end-training_start\n",
    "    print(\"Time consumed for training: %4.3f seconds\" % (train_time))\n",
    "    y_pred=clf.predict(x_test)\n",
    "    print(accuracy_score(y_test,y_pred),label)\n",
    "    print(confusion_matrix(y_test,y_pred))\n",
    "    print(precision_score(y_test,y_pred))\n",
    "    print(recall_score(y_test,y_pred))\n",
    "    print(f1_score(y_test,y_pred))\n",
    "    print(roc_auc_score(y_test,y_pred))"
   ]
  },
  {
   "cell_type": "code",
   "execution_count": 37,
   "metadata": {},
   "outputs": [],
   "source": [
    "from mlxtend.evaluate import combined_ftest_5x2cv"
   ]
  },
  {
   "cell_type": "code",
   "execution_count": 38,
   "metadata": {},
   "outputs": [],
   "source": [
    "f, p = combined_ftest_5x2cv(estimator1=svm,\n",
    "                            estimator2=knn,\n",
    "                            X=k, y=y_train_resample,\n",
    "                            random_seed=1)"
   ]
  },
  {
   "cell_type": "code",
   "execution_count": 39,
   "metadata": {},
   "outputs": [
    {
     "name": "stdout",
     "output_type": "stream",
     "text": [
      "F statistic: 1.833\n",
      "p value: 0.261\n"
     ]
    }
   ],
   "source": [
    "print('F statistic: %.3f' % f)\n",
    "print('p value: %.3f' % p)"
   ]
  },
  {
   "cell_type": "markdown",
   "metadata": {},
   "source": [
    "# Random Forest"
   ]
  },
  {
   "cell_type": "code",
   "execution_count": 70,
   "metadata": {},
   "outputs": [
    {
     "name": "stdout",
     "output_type": "stream",
     "text": [
      "[learning_curve] Training set sizes: [  2   6  11  16  20  25  30  34  39  44  48  53  58  62  67  72  76  81\n",
      "  85  90  95  99 104 109 113 118 123 127 132 137 141 146 151 155 160 164\n",
      " 169 174 178 183 188 192 197 202 206 211 216 220 225 230]\n"
     ]
    },
    {
     "name": "stderr",
     "output_type": "stream",
     "text": [
      "[Parallel(n_jobs=-1)]: Using backend LokyBackend with 4 concurrent workers.\n",
      "[Parallel(n_jobs=-1)]: Done 250 out of 250 | elapsed:    9.8s finished\n"
     ]
    },
    {
     "data": {
      "image/png": "[encoded data removed]",
      "text/plain": [
       "<Figure size 432x288 with 1 Axes>"
      ]
     },
     "metadata": {
      "needs_background": "light"
     },
     "output_type": "display_data"
    }
   ],
   "source": [
    "train_sizes,train_scores,test_scores=learning_curve(rf, k, y_train_resample, cv=fold, scoring='accuracy', n_jobs=-1, train_sizes=np.linspace(0.01, 1, 50),verbose=1)\n",
    "train_mean=np.mean(train_scores,axis=1)\n",
    "train_std=np.std(train_scores,axis=1)\n",
    "test_mean=np.mean(test_scores,axis=1)\n",
    "test_std=np.std(test_scores,axis=1)\n",
    "plt.plot(train_sizes, train_mean, label ='Training Score', lw='3', c='b')\n",
    "plt.plot(train_sizes, test_mean, label ='Cross-Validation Score', lw='3', c='r')\n",
    "f1={'family':'Times New Roman','color':'black','size':15}\n",
    "f2={'family':'Times New Roman','color':'black','size':15}\n",
    "plt.title('Learning Curve for Random Forest', fontdict=f1)\n",
    "plt.xlabel('Training Size', fontdict=f2)\n",
    "plt.ylabel('Accuracy', fontdict=f2)\n",
    "plt.legend(loc='best')\n",
    "plt.grid(axis='both', ls='dashed', lw=1, c='black')\n",
    "plt.savefig(\"random.jpg\",dpi=300)\n",
    "plt.show()"
   ]
  },
  {
   "cell_type": "markdown",
   "metadata": {},
   "source": [
    "# Voting"
   ]
  },
  {
   "cell_type": "code",
   "execution_count": 79,
   "metadata": {},
   "outputs": [
    {
     "name": "stdout",
     "output_type": "stream",
     "text": [
      "[learning_curve] Training set sizes: [  2   6  11  16  20  25  30  34  39  44  48  53  58  62  67  72  76  81\n",
      "  85  90  95  99 104 109 113 118 123 127 132 137 141 146 151 155 160 164\n",
      " 169 174 178 183 188 192 197 202 206 211 216 220 225 230]\n"
     ]
    },
    {
     "name": "stderr",
     "output_type": "stream",
     "text": [
      "[Parallel(n_jobs=-1)]: Using backend LokyBackend with 4 concurrent workers.\n",
      "[Parallel(n_jobs=-1)]: Done 250 out of 250 | elapsed:    9.3s finished\n"
     ]
    },
    {
     "data": {
      "image/png": "[encoded data removed]",
      "text/plain": [
       "<Figure size 432x288 with 1 Axes>"
      ]
     },
     "metadata": {
      "needs_background": "light"
     },
     "output_type": "display_data"
    }
   ],
   "source": [
    "train_sizes,train_scores,test_scores=learning_curve(voting, k, y_train_resample, cv=fold, scoring='accuracy', n_jobs=-1, train_sizes=np.linspace(0.01, 1, 50),verbose=1)\n",
    "train_mean=np.mean(train_scores,axis=1)\n",
    "train_std=np.std(train_scores,axis=1)\n",
    "test_mean=np.mean(test_scores,axis=1)\n",
    "test_std=np.std(test_scores,axis=1)\n",
    "plt.plot(train_sizes, train_mean, label ='Training Score', lw='3', c='b')\n",
    "plt.plot(train_sizes, test_mean, label ='Cross-Validation Score', lw='3', c='r')\n",
    "f1={'family':'Times New Roman','color':'black','size':15}\n",
    "f2={'family':'Times New Roman','color':'black','size':15}\n",
    "plt.title('Learning Curve for Voting', fontdict=f1)\n",
    "plt.xlabel('Training Size', fontdict=f2)\n",
    "plt.ylabel('Accuracy', fontdict=f2)\n",
    "plt.legend(loc='best')\n",
    "plt.grid(axis='both', ls='dashed', lw=1, c='black')\n",
    "plt.savefig(\"voting.jpg\",dpi=300)\n",
    "plt.show()"
   ]
  },
  {
   "cell_type": "markdown",
   "metadata": {},
   "source": [
    "# Bagging"
   ]
  },
  {
   "cell_type": "code",
   "execution_count": 42,
   "metadata": {},
   "outputs": [
    {
     "name": "stdout",
     "output_type": "stream",
     "text": [
      "[learning_curve] Training set sizes: [  2   6  11  16  20  25  30  34  39  44  48  53  58  62  67  72  76  81\n",
      "  85  90  95  99 104 109 113 118 123 127 132 137 141 146 151 155 160 164\n",
      " 169 174 178 183 188 192 197 202 206 211 216 220 225 230]\n"
     ]
    },
    {
     "name": "stderr",
     "output_type": "stream",
     "text": [
      "[Parallel(n_jobs=-1)]: Using backend LokyBackend with 4 concurrent workers.\n",
      "[Parallel(n_jobs=-1)]: Done 250 out of 250 | elapsed:  1.0min finished\n"
     ]
    },
    {
     "data": {
      "image/png": "[encoded data removed]",
      "text/plain": [
       "<Figure size 432x288 with 1 Axes>"
      ]
     },
     "metadata": {
      "needs_background": "light"
     },
     "output_type": "display_data"
    }
   ],
   "source": [
    "train_sizes,train_scores,test_scores=learning_curve(bag, k, y_train_resample, cv=fold, scoring='accuracy', n_jobs=-1, train_sizes=np.linspace(0.01, 1, 50),verbose=1)\n",
    "train_mean=np.mean(train_scores,axis=1)\n",
    "train_std=np.std(train_scores,axis=1)\n",
    "test_mean=np.mean(test_scores,axis=1)\n",
    "test_std=np.std(test_scores,axis=1)\n",
    "plt.plot(train_sizes, train_mean, label ='Training Score', lw='3', c='b')\n",
    "plt.plot(train_sizes, test_mean, label ='Cross-Validation Score', lw='3', c='r')\n",
    "f1={'family':'Times New Roman','color':'black','size':15}\n",
    "f2={'family':'Times New Roman','color':'black','size':15}\n",
    "plt.title('Learning Curve for Bagging', fontdict=f1)\n",
    "plt.xlabel('Training Size', fontdict=f2)\n",
    "plt.ylabel('Accuracy', fontdict=f2)\n",
    "plt.legend(loc='best')\n",
    "plt.grid(axis='both', ls='dashed', lw=1, c='black')\n",
    "plt.savefig('bagging.jpg',dpi=300)\n",
    "plt.show()"
   ]
  },
  {
   "cell_type": "markdown",
   "metadata": {},
   "source": [
    "# Adaptive"
   ]
  },
  {
   "cell_type": "code",
   "execution_count": 85,
   "metadata": {},
   "outputs": [
    {
     "name": "stdout",
     "output_type": "stream",
     "text": [
      "[learning_curve] Training set sizes: [  2   6  11  16  20  25  30  34  39  44  48  53  58  62  67  72  76  81\n",
      "  85  90  95  99 104 109 113 118 123 127 132 137 141 146 151 155 160 164\n",
      " 169 174 178 183 188 192 197 202 206 211 216 220 225 230]\n"
     ]
    },
    {
     "name": "stderr",
     "output_type": "stream",
     "text": [
      "[Parallel(n_jobs=-1)]: Using backend LokyBackend with 4 concurrent workers.\n",
      "[Parallel(n_jobs=-1)]: Done 250 out of 250 | elapsed:   12.2s finished\n"
     ]
    },
    {
     "data": {
      "image/png": "[encoded data removed]",
      "text/plain": [
       "<Figure size 432x288 with 1 Axes>"
      ]
     },
     "metadata": {
      "needs_background": "light"
     },
     "output_type": "display_data"
    }
   ],
   "source": [
    "train_sizes,train_scores,test_scores=learning_curve(ada, k, y_train_resample, cv=fold, scoring='accuracy', n_jobs=-1, train_sizes=np.linspace(0.01, 1, 50),verbose=1)\n",
    "train_mean=np.mean(train_scores,axis=1)\n",
    "train_std=np.std(train_scores,axis=1)\n",
    "test_mean=np.mean(test_scores,axis=1)\n",
    "test_std=np.std(test_scores,axis=1)\n",
    "plt.plot(train_sizes, train_mean, label ='Training Score', lw='3', c='b')\n",
    "plt.plot(train_sizes, test_mean, label ='Cross-Validation Score', lw='3', c='r')\n",
    "f1={'family':'Times New Roman','color':'black','size':15}\n",
    "f2={'family':'Times New Roman','color':'black','size':15}\n",
    "plt.title('Learning Curve for Adaptive Boosting', fontdict=f1)\n",
    "plt.xlabel('Training Size', fontdict=f2)\n",
    "plt.ylabel('Accuracy', fontdict=f2)\n",
    "plt.legend(loc='best')\n",
    "plt.grid(axis='both', ls='dashed', lw=1, c='black')\n",
    "plt.tight_layout\n",
    "plt.savefig('adaptive.jpg',dpi=300)\n",
    "plt.show()"
   ]
  },
  {
   "cell_type": "markdown",
   "metadata": {},
   "source": [
    "# Gradient"
   ]
  },
  {
   "cell_type": "code",
   "execution_count": 44,
   "metadata": {},
   "outputs": [
    {
     "name": "stdout",
     "output_type": "stream",
     "text": [
      "[learning_curve] Training set sizes: [  2   6  11  16  20  25  30  34  39  44  48  53  58  62  67  72  76  81\n",
      "  85  90  95  99 104 109 113 118 123 127 132 137 141 146 151 155 160 164\n",
      " 169 174 178 183 188 192 197 202 206 211 216 220 225 230]\n"
     ]
    },
    {
     "name": "stderr",
     "output_type": "stream",
     "text": [
      "[Parallel(n_jobs=-1)]: Using backend LokyBackend with 4 concurrent workers.\n",
      "[Parallel(n_jobs=-1)]: Done 250 out of 250 | elapsed:    5.1s finished\n"
     ]
    },
    {
     "data": {
      "image/png": "[encoded data removed]",
      "text/plain": [
       "<Figure size 432x288 with 1 Axes>"
      ]
     },
     "metadata": {
      "needs_background": "light"
     },
     "output_type": "display_data"
    }
   ],
   "source": [
    "train_sizes,train_scores,test_scores=learning_curve(gdb, k, y_train_resample, cv=fold, scoring='accuracy', n_jobs=-1, train_sizes=np.linspace(0.01, 1, 50),verbose=1)\n",
    "train_mean=np.mean(train_scores,axis=1)\n",
    "train_std=np.std(train_scores,axis=1)\n",
    "test_mean=np.mean(test_scores,axis=1)\n",
    "test_std=np.std(test_scores,axis=1)\n",
    "plt.plot(train_sizes, train_mean, label ='Training Score', lw='3', c='b')\n",
    "plt.plot(train_sizes, test_mean, label ='Cross-Validation Score', lw='3', c='r')\n",
    "f1={'family':'Times New Roman','color':'black','size':15}\n",
    "f2={'family':'Times New Roman','color':'black','size':15}\n",
    "plt.title('Learning curve for Gradient Boosting', fontdict=f1)\n",
    "plt.xlabel('Training Size', fontdict=f2)\n",
    "plt.ylabel('Accuracy', fontdict=f2)\n",
    "plt.legend(loc='best')\n",
    "plt.grid(axis='both', ls='dashed', lw=1, c='black')\n",
    "plt.tight_layout\n",
    "\n",
    "plt.savefig('gradient.jpg',dpi=300)\n",
    "plt.show()"
   ]
  },
  {
   "cell_type": "markdown",
   "metadata": {},
   "source": [
    "# LGB"
   ]
  },
  {
   "cell_type": "code",
   "execution_count": 45,
   "metadata": {},
   "outputs": [
    {
     "name": "stdout",
     "output_type": "stream",
     "text": [
      "[learning_curve] Training set sizes: [  2   6  11  16  20  25  30  34  39  44  48  53  58  62  67  72  76  81\n",
      "  85  90  95  99 104 109 113 118 123 127 132 137 141 146 151 155 160 164\n",
      " 169 174 178 183 188 192 197 202 206 211 216 220 225 230]\n"
     ]
    },
    {
     "name": "stderr",
     "output_type": "stream",
     "text": [
      "[Parallel(n_jobs=-1)]: Using backend LokyBackend with 4 concurrent workers.\n",
      "[Parallel(n_jobs=-1)]: Done 250 out of 250 | elapsed:    2.3s finished\n"
     ]
    },
    {
     "data": {
      "image/png": "[encoded data removed]",
      "text/plain": [
       "<Figure size 432x288 with 1 Axes>"
      ]
     },
     "metadata": {
      "needs_background": "light"
     },
     "output_type": "display_data"
    }
   ],
   "source": [
    "train_sizes,train_scores,test_scores=learning_curve(lgb, k, y_train_resample, cv=fold, scoring='accuracy', n_jobs=-1, train_sizes=np.linspace(0.01, 1, 50),verbose=1)\n",
    "train_mean=np.mean(train_scores,axis=1)\n",
    "train_std=np.std(train_scores,axis=1)\n",
    "test_mean=np.mean(test_scores,axis=1)\n",
    "test_std=np.std(test_scores,axis=1)\n",
    "plt.plot(train_sizes, train_mean, label ='Training Score', lw='3', c='b')\n",
    "plt.plot(train_sizes, test_mean, label ='Cross-Validation Score', lw='3', c='r')\n",
    "f1={'family':'Times New Roman','color':'black','size':15}\n",
    "f2={'family':'Times New Roman','color':'black','size':15}\n",
    "plt.title('Learning curve for Light Gradient Boosting', fontdict=f1)\n",
    "plt.xlabel('Training Size', fontdict=f2)\n",
    "plt.ylabel('Accuracy', fontdict=f2)\n",
    "plt.legend(loc='best')\n",
    "plt.grid(axis='both', ls='dashed', lw=1, c='black')\n",
    "plt.tight_layout\n",
    "\n",
    "plt.savefig('Light.jpg',dpi=300)\n",
    "plt.show()"
   ]
  },
  {
   "cell_type": "markdown",
   "metadata": {},
   "source": [
    "# Xtreme"
   ]
  },
  {
   "cell_type": "code",
   "execution_count": 46,
   "metadata": {},
   "outputs": [
    {
     "name": "stdout",
     "output_type": "stream",
     "text": [
      "[learning_curve] Training set sizes: [  2   6  11  16  20  25  30  34  39  44  48  53  58  62  67  72  76  81\n",
      "  85  90  95  99 104 109 113 118 123 127 132 137 141 146 151 155 160 164\n",
      " 169 174 178 183 188 192 197 202 206 211 216 220 225 230]\n"
     ]
    },
    {
     "name": "stderr",
     "output_type": "stream",
     "text": [
      "[Parallel(n_jobs=-1)]: Using backend LokyBackend with 4 concurrent workers.\n",
      "[Parallel(n_jobs=-1)]: Done 250 out of 250 | elapsed:   16.2s finished\n"
     ]
    },
    {
     "data": {
      "image/png": "[encoded data removed]",
      "text/plain": [
       "<Figure size 432x288 with 1 Axes>"
      ]
     },
     "metadata": {
      "needs_background": "light"
     },
     "output_type": "display_data"
    }
   ],
   "source": [
    "train_sizes,train_scores,test_scores=learning_curve(xgb, k, y_train_resample, cv=fold, scoring='accuracy', n_jobs=-1, train_sizes=np.linspace(0.01, 1, 50),verbose=1)\n",
    "train_mean=np.mean(train_scores,axis=1)\n",
    "train_std=np.std(train_scores,axis=1)\n",
    "test_mean=np.mean(test_scores,axis=1)\n",
    "test_std=np.std(test_scores,axis=1)\n",
    "plt.plot(train_sizes, train_mean, label ='Training Score', lw='3', c='b')\n",
    "plt.plot(train_sizes, test_mean, label ='Cross-Validation Score', lw='3', c='r')\n",
    "f1={'family':'Times New Roman','color':'black','size':15}\n",
    "f2={'family':'Times New Roman','color':'black','size':15}\n",
    "plt.title('Learning curve for Extreme Gradient Boosting', fontdict=f1)\n",
    "plt.xlabel('Training Size', fontdict=f2)\n",
    "plt.ylabel('Accuracy', fontdict=f2)\n",
    "plt.legend(loc='best')\n",
    "plt.grid(axis='both', ls='dashed', lw=1, c='black')\n",
    "plt.tight_layout\n",
    "\n",
    "plt.savefig('Xtreme.jpg',dpi=300)\n",
    "plt.show()"
   ]
  },
  {
   "cell_type": "markdown",
   "metadata": {},
   "source": [
    "# Stacking"
   ]
  },
  {
   "cell_type": "code",
   "execution_count": 51,
   "metadata": {},
   "outputs": [
    {
     "name": "stdout",
     "output_type": "stream",
     "text": [
      "[learning_curve] Training set sizes: [  2   6  11  16  20  25  30  34  39  44  48  53  58  62  67  72  76  81\n",
      "  85  90  95  99 104 109 113 118 123 127 132 137 141 146 151 155 160 164\n",
      " 169 174 178 183 188 192 197 202 206 211 216 220 225 230]\n"
     ]
    },
    {
     "name": "stderr",
     "output_type": "stream",
     "text": [
      "[Parallel(n_jobs=-1)]: Using backend LokyBackend with 4 concurrent workers.\n",
      "[Parallel(n_jobs=-1)]: Done 250 out of 250 | elapsed:   15.1s finished\n"
     ]
    },
    {
     "data": {
      "image/png": "[encoded data removed]",
      "text/plain": [
       "<Figure size 432x288 with 1 Axes>"
      ]
     },
     "metadata": {
      "needs_background": "light"
     },
     "output_type": "display_data"
    }
   ],
   "source": [
    "train_sizes,train_scores,test_scores=learning_curve(sc, k, y_train_resample, cv=fold, scoring='accuracy', n_jobs=-1, train_sizes=np.linspace(0.01, 1, 50),verbose=1)\n",
    "train_mean=np.mean(train_scores,axis=1)\n",
    "train_std=np.std(train_scores,axis=1)\n",
    "test_mean=np.mean(test_scores,axis=1)\n",
    "test_std=np.std(test_scores,axis=1)\n",
    "plt.plot(train_sizes, train_mean, label ='Training Score', lw='3', c='b')\n",
    "plt.plot(train_sizes, test_mean, label ='Cross-Validation Score', lw='3', c='r')\n",
    "f1={'family':'Times New Roman','color':'black','size':15}\n",
    "f2={'family':'Times New Roman','color':'black','size':15}\n",
    "plt.title('Learning curve for Extreme Gradient Boosting', fontdict=f1)\n",
    "plt.xlabel('Training Size', fontdict=f2)\n",
    "plt.ylabel('Accuracy', fontdict=f2)\n",
    "plt.legend(loc='best')\n",
    "plt.grid(axis='both', ls='dashed', lw=1, c='black')\n",
    "plt.tight_layout\n",
    "plt.savefig('Stacking.jpg',dpi=300)\n",
    "plt.show()"
   ]
  },
  {
   "cell_type": "code",
   "execution_count": null,
   "metadata": {},
   "outputs": [],
   "source": []
  }
 ],
 "metadata": {
  "kernelspec": {
   "display_name": "Python 3",
   "language": "python",
   "name": "python3"
  },
  "language_info": {
   "codemirror_mode": {
    "name": "ipython",
    "version": 3
   },
   "file_extension": ".py",
   "mimetype": "text/x-python",
   "name": "python",
   "nbconvert_exporter": "python",
   "pygments_lexer": "ipython3",
   "version": "3.8.5"
  }
 },
 "nbformat": 4,
 "nbformat_minor": 5
}
